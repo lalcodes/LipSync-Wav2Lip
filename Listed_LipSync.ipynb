{
  "nbformat": 4,
  "nbformat_minor": 0,
  "metadata": {
    "colab": {
      "provenance": [],
      "gpuType": "T4"
    },
    "kernelspec": {
      "name": "python3",
      "display_name": "Python 3"
    }
  },
  "cells": [
    {
      "cell_type": "code",
      "metadata": {
        "id": "XIVB0Xn1g6ih",
        "colab": {
          "base_uri": "https://localhost:8080/"
        },
        "outputId": "9bc16ab8-7164-4ca2-a5c7-b13103012524"
      },
      "source": [
        "!nvcc --version"
      ],
      "execution_count": 4,
      "outputs": [
        {
          "output_type": "stream",
          "name": "stdout",
          "text": [
            "nvcc: NVIDIA (R) Cuda compiler driver\n",
            "Copyright (c) 2005-2022 NVIDIA Corporation\n",
            "Built on Wed_Sep_21_10:33:58_PDT_2022\n",
            "Cuda compilation tools, release 11.8, V11.8.89\n",
            "Build cuda_11.8.r11.8/compiler.31833905_0\n"
          ]
        }
      ]
    },
    {
      "cell_type": "code",
      "source": [
        "from google.colab import drive\n",
        "drive.mount('/content/drive')"
      ],
      "metadata": {
        "colab": {
          "base_uri": "https://localhost:8080/"
        },
        "id": "3-EDuYRVvpLC",
        "outputId": "d24bb31e-e866-4074-a01e-9583e5fe5d8b"
      },
      "execution_count": 1,
      "outputs": [
        {
          "output_type": "stream",
          "name": "stdout",
          "text": [
            "Mounted at /content/drive\n"
          ]
        }
      ]
    },
    {
      "cell_type": "markdown",
      "metadata": {
        "id": "yJ5taGmPcWV-"
      },
      "source": [
        "# Get the code and models"
      ]
    },
    {
      "cell_type": "code",
      "metadata": {
        "id": "P3LihClHbUd3",
        "colab": {
          "base_uri": "https://localhost:8080/"
        },
        "outputId": "b32d9568-36da-4cf8-8ee3-aea7d1fca8cc"
      },
      "source": [
        "!git clone https://github.com/Rudrabha/Wav2Lip.git"
      ],
      "execution_count": 1,
      "outputs": [
        {
          "output_type": "stream",
          "name": "stdout",
          "text": [
            "Cloning into 'Wav2Lip'...\n",
            "remote: Enumerating objects: 363, done.\u001b[K\n",
            "remote: Counting objects: 100% (3/3), done.\u001b[K\n",
            "remote: Compressing objects: 100% (3/3), done.\u001b[K\n",
            "remote: Total 363 (delta 0), reused 1 (delta 0), pack-reused 360\u001b[K\n",
            "Receiving objects: 100% (363/363), 528.20 KiB | 2.47 MiB/s, done.\n",
            "Resolving deltas: 100% (198/198), done.\n"
          ]
        }
      ]
    },
    {
      "cell_type": "code",
      "metadata": {
        "id": "y-19nzx8SamJ"
      },
      "source": [
        "!cp -r /content/drive/MyDrive/Learn/Listed /content"
      ],
      "execution_count": 3,
      "outputs": []
    },
    {
      "cell_type": "code",
      "metadata": {
        "id": "YjzMPy_Sb0AI",
        "colab": {
          "base_uri": "https://localhost:8080/"
        },
        "outputId": "a96d7f92-9b11-4fd2-9404-bf8409a143b7"
      },
      "source": [
        "#download the pretrained model\n",
        "!wget 'https://iiitaphyd-my.sharepoint.com/personal/radrabha_m_research_iiit_ac_in/_layouts/15/download.aspx?share=Eb3LEzbfuKlJiR600lQWRxgBIY27JZg80f7V9jtMfbNDaQ' -O '/content/Wav2Lip/checkpoints/wav2lip.pth'\n",
        "!wget 'https://iiitaphyd-my.sharepoint.com/personal/radrabha_m_research_iiit_ac_in/_layouts/15/download.aspx?share=EdjI7bZlgApMqsVoEUUXpLsBxqXbn5z8VTmoxp55YNDcIA' -O '/content/Wav2Lip/checkpoints/wav2lip_gan.pth'\n",
        "# !wget 'https://iiitaphyd-my.sharepoint.com/personal/radrabha_m_research_iiit_ac_in/_layouts/15/download.aspx?share=EQRvmiZg-HRAjvI6zqN9eTEBP74KefynCwPWVmF57l-AYA' -O '/content/Wav2Lip/checkpoints/lipsync_expert.pth'\n",
        "# !wget 'https://iiitaphyd-my.sharepoint.com/personal/radrabha_m_research_iiit_ac_in/_layouts/15/download.aspx?share=EQVqH88dTm1HjlK11eNba5gBbn15WMS0B0EZbDBttqrqkg' -O '/content/Wav2Lip/checkpoints/visual_quality_disc.pth'\n",
        "\n"
      ],
      "execution_count": 2,
      "outputs": [
        {
          "output_type": "stream",
          "name": "stdout",
          "text": [
            "--2023-07-21 00:49:32--  https://iiitaphyd-my.sharepoint.com/personal/radrabha_m_research_iiit_ac_in/_layouts/15/download.aspx?share=Eb3LEzbfuKlJiR600lQWRxgBIY27JZg80f7V9jtMfbNDaQ\n",
            "Resolving iiitaphyd-my.sharepoint.com (iiitaphyd-my.sharepoint.com)... 13.107.136.8, 13.107.138.8, 2620:1ec:8f8::8, ...\n",
            "Connecting to iiitaphyd-my.sharepoint.com (iiitaphyd-my.sharepoint.com)|13.107.136.8|:443... connected.\n",
            "HTTP request sent, awaiting response... 200 OK\n",
            "Length: 435807851 (416M) [application/octet-stream]\n",
            "Saving to: ‘/content/Wav2Lip/checkpoints/wav2lip.pth’\n",
            "\n",
            "/content/Wav2Lip/ch 100%[===================>] 415.62M  65.1MB/s    in 13s     \n",
            "\n",
            "2023-07-21 00:49:46 (33.0 MB/s) - ‘/content/Wav2Lip/checkpoints/wav2lip.pth’ saved [435807851/435807851]\n",
            "\n",
            "--2023-07-21 00:49:46--  https://iiitaphyd-my.sharepoint.com/personal/radrabha_m_research_iiit_ac_in/_layouts/15/download.aspx?share=EdjI7bZlgApMqsVoEUUXpLsBxqXbn5z8VTmoxp55YNDcIA\n",
            "Resolving iiitaphyd-my.sharepoint.com (iiitaphyd-my.sharepoint.com)... 13.107.136.8, 13.107.138.8, 2620:1ec:8f8::8, ...\n",
            "Connecting to iiitaphyd-my.sharepoint.com (iiitaphyd-my.sharepoint.com)|13.107.136.8|:443... connected.\n",
            "HTTP request sent, awaiting response... 200 OK\n",
            "Length: 435801865 (416M) [application/octet-stream]\n",
            "Saving to: ‘/content/Wav2Lip/checkpoints/wav2lip_gan.pth’\n",
            "\n",
            "/content/Wav2Lip/ch 100%[===================>] 415.61M  71.3MB/s    in 12s     \n",
            "\n",
            "2023-07-21 00:49:59 (34.9 MB/s) - ‘/content/Wav2Lip/checkpoints/wav2lip_gan.pth’ saved [435801865/435801865]\n",
            "\n"
          ]
        }
      ]
    },
    {
      "cell_type": "code",
      "metadata": {
        "id": "ey_bN4M6X_95",
        "colab": {
          "base_uri": "https://localhost:8080/"
        },
        "outputId": "fc36e565-be14-4a3a-dd6b-7c77db129a90"
      },
      "source": [
        "#download pretrained model for face detection\n",
        "!wget \"https://www.adrianbulat.com/downloads/python-fan/s3fd-619a316812.pth\" -O \"Wav2Lip/face_detection/detection/sfd/s3fd.pth\""
      ],
      "execution_count": 3,
      "outputs": [
        {
          "output_type": "stream",
          "name": "stdout",
          "text": [
            "--2023-07-21 00:49:59--  https://www.adrianbulat.com/downloads/python-fan/s3fd-619a316812.pth\n",
            "Resolving www.adrianbulat.com (www.adrianbulat.com)... 45.136.29.207\n",
            "Connecting to www.adrianbulat.com (www.adrianbulat.com)|45.136.29.207|:443... connected.\n",
            "HTTP request sent, awaiting response... 200 OK\n",
            "Length: 89843225 (86M) [application/octet-stream]\n",
            "Saving to: ‘Wav2Lip/face_detection/detection/sfd/s3fd.pth’\n",
            "\n",
            "Wav2Lip/face_detect 100%[===================>]  85.68M  24.9MB/s    in 3.8s    \n",
            "\n",
            "2023-07-21 00:50:03 (22.4 MB/s) - ‘Wav2Lip/face_detection/detection/sfd/s3fd.pth’ saved [89843225/89843225]\n",
            "\n"
          ]
        }
      ]
    },
    {
      "cell_type": "markdown",
      "metadata": {
        "id": "aWTaOS3ncFt6"
      },
      "source": [
        "# Get the pre-requisites"
      ]
    },
    {
      "cell_type": "code",
      "metadata": {
        "id": "Ooh28vw-Uvd3"
      },
      "source": [
        "!pip uninstall tensorflow tensorflow-gpu"
      ],
      "execution_count": null,
      "outputs": []
    },
    {
      "cell_type": "code",
      "metadata": {
        "id": "49dCYlLdcK2D",
        "colab": {
          "base_uri": "https://localhost:8080/"
        },
        "outputId": "6361af86-d459-4f7c-908c-295c1f66ba38"
      },
      "source": [
        "!cd Wav2Lip && pip install -r requirements.txt"
      ],
      "execution_count": 9,
      "outputs": [
        {
          "output_type": "stream",
          "name": "stdout",
          "text": [
            "Requirement already satisfied: librosa in /usr/local/lib/python3.10/dist-packages (from -r requirements.txt (line 1)) (0.10.0.post2)\n",
            "Requirement already satisfied: numpy in /usr/local/lib/python3.10/dist-packages (from -r requirements.txt (line 2)) (1.22.4)\n",
            "Requirement already satisfied: opencv-contrib-python in /usr/local/lib/python3.10/dist-packages (from -r requirements.txt (line 3)) (4.7.0.72)\n",
            "Requirement already satisfied: opencv-python in /usr/local/lib/python3.10/dist-packages (from -r requirements.txt (line 4)) (4.7.0.72)\n",
            "Requirement already satisfied: torch in /usr/local/lib/python3.10/dist-packages (from -r requirements.txt (line 5)) (2.0.1+cu118)\n",
            "Requirement already satisfied: torchvision in /usr/local/lib/python3.10/dist-packages (from -r requirements.txt (line 6)) (0.15.2+cu118)\n",
            "Requirement already satisfied: tqdm in /usr/local/lib/python3.10/dist-packages (from -r requirements.txt (line 7)) (4.65.0)\n",
            "Requirement already satisfied: numba in /usr/local/lib/python3.10/dist-packages (from -r requirements.txt (line 8)) (0.56.4)\n",
            "Requirement already satisfied: audioread>=2.1.9 in /usr/local/lib/python3.10/dist-packages (from librosa->-r requirements.txt (line 1)) (3.0.0)\n",
            "Requirement already satisfied: scipy>=1.2.0 in /usr/local/lib/python3.10/dist-packages (from librosa->-r requirements.txt (line 1)) (1.10.1)\n",
            "Requirement already satisfied: scikit-learn>=0.20.0 in /usr/local/lib/python3.10/dist-packages (from librosa->-r requirements.txt (line 1)) (1.2.2)\n",
            "Requirement already satisfied: joblib>=0.14 in /usr/local/lib/python3.10/dist-packages (from librosa->-r requirements.txt (line 1)) (1.3.1)\n",
            "Requirement already satisfied: decorator>=4.3.0 in /usr/local/lib/python3.10/dist-packages (from librosa->-r requirements.txt (line 1)) (4.4.2)\n",
            "Requirement already satisfied: soundfile>=0.12.1 in /usr/local/lib/python3.10/dist-packages (from librosa->-r requirements.txt (line 1)) (0.12.1)\n",
            "Requirement already satisfied: pooch<1.7,>=1.0 in /usr/local/lib/python3.10/dist-packages (from librosa->-r requirements.txt (line 1)) (1.6.0)\n",
            "Requirement already satisfied: soxr>=0.3.2 in /usr/local/lib/python3.10/dist-packages (from librosa->-r requirements.txt (line 1)) (0.3.5)\n",
            "Requirement already satisfied: typing-extensions>=4.1.1 in /usr/local/lib/python3.10/dist-packages (from librosa->-r requirements.txt (line 1)) (4.7.1)\n",
            "Requirement already satisfied: lazy-loader>=0.1 in /usr/local/lib/python3.10/dist-packages (from librosa->-r requirements.txt (line 1)) (0.3)\n",
            "Requirement already satisfied: msgpack>=1.0 in /usr/local/lib/python3.10/dist-packages (from librosa->-r requirements.txt (line 1)) (1.0.5)\n",
            "Requirement already satisfied: filelock in /usr/local/lib/python3.10/dist-packages (from torch->-r requirements.txt (line 5)) (3.12.2)\n",
            "Requirement already satisfied: sympy in /usr/local/lib/python3.10/dist-packages (from torch->-r requirements.txt (line 5)) (1.11.1)\n",
            "Requirement already satisfied: networkx in /usr/local/lib/python3.10/dist-packages (from torch->-r requirements.txt (line 5)) (3.1)\n",
            "Requirement already satisfied: jinja2 in /usr/local/lib/python3.10/dist-packages (from torch->-r requirements.txt (line 5)) (3.1.2)\n",
            "Requirement already satisfied: triton==2.0.0 in /usr/local/lib/python3.10/dist-packages (from torch->-r requirements.txt (line 5)) (2.0.0)\n",
            "Requirement already satisfied: cmake in /usr/local/lib/python3.10/dist-packages (from triton==2.0.0->torch->-r requirements.txt (line 5)) (3.25.2)\n",
            "Requirement already satisfied: lit in /usr/local/lib/python3.10/dist-packages (from triton==2.0.0->torch->-r requirements.txt (line 5)) (16.0.6)\n",
            "Requirement already satisfied: requests in /usr/local/lib/python3.10/dist-packages (from torchvision->-r requirements.txt (line 6)) (2.27.1)\n",
            "Requirement already satisfied: pillow!=8.3.*,>=5.3.0 in /usr/local/lib/python3.10/dist-packages (from torchvision->-r requirements.txt (line 6)) (8.4.0)\n",
            "Requirement already satisfied: llvmlite<0.40,>=0.39.0dev0 in /usr/local/lib/python3.10/dist-packages (from numba->-r requirements.txt (line 8)) (0.39.1)\n",
            "Requirement already satisfied: setuptools in /usr/local/lib/python3.10/dist-packages (from numba->-r requirements.txt (line 8)) (67.7.2)\n",
            "Requirement already satisfied: appdirs>=1.3.0 in /usr/local/lib/python3.10/dist-packages (from pooch<1.7,>=1.0->librosa->-r requirements.txt (line 1)) (1.4.4)\n",
            "Requirement already satisfied: packaging>=20.0 in /usr/local/lib/python3.10/dist-packages (from pooch<1.7,>=1.0->librosa->-r requirements.txt (line 1)) (23.1)\n",
            "Requirement already satisfied: urllib3<1.27,>=1.21.1 in /usr/local/lib/python3.10/dist-packages (from requests->torchvision->-r requirements.txt (line 6)) (1.26.16)\n",
            "Requirement already satisfied: certifi>=2017.4.17 in /usr/local/lib/python3.10/dist-packages (from requests->torchvision->-r requirements.txt (line 6)) (2023.5.7)\n",
            "Requirement already satisfied: charset-normalizer~=2.0.0 in /usr/local/lib/python3.10/dist-packages (from requests->torchvision->-r requirements.txt (line 6)) (2.0.12)\n",
            "Requirement already satisfied: idna<4,>=2.5 in /usr/local/lib/python3.10/dist-packages (from requests->torchvision->-r requirements.txt (line 6)) (3.4)\n",
            "Requirement already satisfied: threadpoolctl>=2.0.0 in /usr/local/lib/python3.10/dist-packages (from scikit-learn>=0.20.0->librosa->-r requirements.txt (line 1)) (3.1.0)\n",
            "Requirement already satisfied: cffi>=1.0 in /usr/local/lib/python3.10/dist-packages (from soundfile>=0.12.1->librosa->-r requirements.txt (line 1)) (1.15.1)\n",
            "Requirement already satisfied: MarkupSafe>=2.0 in /usr/local/lib/python3.10/dist-packages (from jinja2->torch->-r requirements.txt (line 5)) (2.1.3)\n",
            "Requirement already satisfied: mpmath>=0.19 in /usr/local/lib/python3.10/dist-packages (from sympy->torch->-r requirements.txt (line 5)) (1.3.0)\n",
            "Requirement already satisfied: pycparser in /usr/local/lib/python3.10/dist-packages (from cffi>=1.0->soundfile>=0.12.1->librosa->-r requirements.txt (line 1)) (2.21)\n"
          ]
        }
      ]
    },
    {
      "cell_type": "code",
      "metadata": {
        "id": "KoVGMtjRZfeR",
        "colab": {
          "base_uri": "https://localhost:8080/",
          "height": 35
        },
        "outputId": "f7c7c4e1-b5f9-4060-d1be-cbaf779c375f"
      },
      "source": [
        "pwd"
      ],
      "execution_count": 12,
      "outputs": [
        {
          "output_type": "execute_result",
          "data": {
            "text/plain": [
              "'/content'"
            ],
            "application/vnd.google.colaboratory.intrinsic+json": {
              "type": "string"
            }
          },
          "metadata": {},
          "execution_count": 12
        }
      ]
    },
    {
      "cell_type": "code",
      "metadata": {
        "id": "jR5utmDMcSZY",
        "colab": {
          "base_uri": "https://localhost:8080/"
        },
        "outputId": "69ac2b64-45d3-48d3-ac1a-5e90d9ab8cbd"
      },
      "source": [
        "!cd Wav2Lip && python inference.py --checkpoint_path checkpoints/wav2lip_gan.pth --face \"/content/Listed/Input_trim01_360p.mp4\" --audio \"/content/Listed/output10.wav\" --outfile '/content/Wav2Lip/results/final_result_360pgan.mp4'"
      ],
      "execution_count": 14,
      "outputs": [
        {
          "output_type": "stream",
          "name": "stdout",
          "text": [
            "Using cuda for inference.\n",
            "Reading video frames...\n",
            "Number of frames available for inference: 900\n",
            "Extracting raw audio...\n",
            "ffmpeg version 4.4.2-0ubuntu0.22.04.1 Copyright (c) 2000-2021 the FFmpeg developers\n",
            "  built with gcc 11 (Ubuntu 11.2.0-19ubuntu1)\n",
            "  configuration: --prefix=/usr --extra-version=0ubuntu0.22.04.1 --toolchain=hardened --libdir=/usr/lib/x86_64-linux-gnu --incdir=/usr/include/x86_64-linux-gnu --arch=amd64 --enable-gpl --disable-stripping --enable-gnutls --enable-ladspa --enable-libaom --enable-libass --enable-libbluray --enable-libbs2b --enable-libcaca --enable-libcdio --enable-libcodec2 --enable-libdav1d --enable-libflite --enable-libfontconfig --enable-libfreetype --enable-libfribidi --enable-libgme --enable-libgsm --enable-libjack --enable-libmp3lame --enable-libmysofa --enable-libopenjpeg --enable-libopenmpt --enable-libopus --enable-libpulse --enable-librabbitmq --enable-librubberband --enable-libshine --enable-libsnappy --enable-libsoxr --enable-libspeex --enable-libsrt --enable-libssh --enable-libtheora --enable-libtwolame --enable-libvidstab --enable-libvorbis --enable-libvpx --enable-libwebp --enable-libx265 --enable-libxml2 --enable-libxvid --enable-libzimg --enable-libzmq --enable-libzvbi --enable-lv2 --enable-omx --enable-openal --enable-opencl --enable-opengl --enable-sdl2 --enable-pocketsphinx --enable-librsvg --enable-libmfx --enable-libdc1394 --enable-libdrm --enable-libiec61883 --enable-chromaprint --enable-frei0r --enable-libx264 --enable-shared\n",
            "  libavutil      56. 70.100 / 56. 70.100\n",
            "  libavcodec     58.134.100 / 58.134.100\n",
            "  libavformat    58. 76.100 / 58. 76.100\n",
            "  libavdevice    58. 13.100 / 58. 13.100\n",
            "  libavfilter     7.110.100 /  7.110.100\n",
            "  libswscale      5.  9.100 /  5.  9.100\n",
            "  libswresample   3.  9.100 /  3.  9.100\n",
            "  libpostproc    55.  9.100 / 55.  9.100\n",
            "Input #0, mov,mp4,m4a,3gp,3g2,mj2, from '/content/shulman_30s_start5.mp4':\n",
            "  Metadata:\n",
            "    major_brand     : isom\n",
            "    minor_version   : 512\n",
            "    compatible_brands: isomiso2avc1mp41\n",
            "    encoder         : Lavf57.83.100\n",
            "  Duration: 00:00:30.88, start: 0.000000, bitrate: 165 kb/s\n",
            "  Stream #0:0(und): Video: h264 (Main) (avc1 / 0x31637661), yuv420p(tv, bt709), 256x144 [SAR 1:1 DAR 16:9], 30 kb/s, 25 fps, 25 tbr, 12800 tbn, 50 tbc (default)\n",
            "    Metadata:\n",
            "      handler_name    : VideoHandler\n",
            "      vendor_id       : [0][0][0][0]\n",
            "  Stream #0:1(eng): Audio: aac (LC) (mp4a / 0x6134706D), 44100 Hz, stereo, fltp, 127 kb/s (default)\n",
            "    Metadata:\n",
            "      handler_name    : SoundHandler\n",
            "      vendor_id       : [0][0][0][0]\n",
            "Stream mapping:\n",
            "  Stream #0:1 -> #0:0 (aac (native) -> pcm_s16le (native))\n",
            "Press [q] to stop, [?] for help\n",
            "Output #0, wav, to 'temp/temp.wav':\n",
            "  Metadata:\n",
            "    major_brand     : isom\n",
            "    minor_version   : 512\n",
            "    compatible_brands: isomiso2avc1mp41\n",
            "    ISFT            : Lavf58.76.100\n",
            "  Stream #0:0(eng): Audio: pcm_s16le ([1][0][0][0] / 0x0001), 44100 Hz, stereo, s16, 1411 kb/s (default)\n",
            "    Metadata:\n",
            "      handler_name    : SoundHandler\n",
            "      vendor_id       : [0][0][0][0]\n",
            "      encoder         : Lavc58.134.100 pcm_s16le\n",
            "size=    5168kB time=00:00:29.97 bitrate=1412.3kbits/s speed= 584x    \n",
            "video:0kB audio:5168kB subtitle:0kB other streams:0kB global headers:0kB muxing overhead: 0.001474%\n",
            "(80, 2401)\n",
            "Length of mel chunks: 895\n",
            "  0% 0/7 [00:00<?, ?it/s]\n",
            "  0% 0/56 [00:18<?, ?it/s]\n",
            "Recovering from OOM error; New batch size: 8\n",
            "\n",
            "  0% 0/112 [00:00<?, ?it/s]\u001b[A\n",
            "  1% 1/112 [03:14<6:00:05, 194.64s/it]\u001b[A\n",
            "  2% 2/112 [03:18<2:30:37, 82.16s/it] \u001b[A\n",
            "  3% 3/112 [03:21<1:23:46, 46.11s/it]\u001b[A\n",
            "  4% 4/112 [03:24<52:29, 29.17s/it]  \u001b[A\n",
            "  4% 5/112 [03:27<35:27, 19.88s/it]\u001b[A\n",
            "  5% 6/112 [03:30<25:03, 14.18s/it]\u001b[A\n",
            "  6% 7/112 [03:34<18:28, 10.55s/it]\u001b[A\n",
            "  7% 8/112 [03:37<14:13,  8.20s/it]\u001b[A\n",
            "  8% 9/112 [03:40<11:32,  6.72s/it]\u001b[A\n",
            "  9% 10/112 [03:43<09:31,  5.60s/it]\u001b[A\n",
            " 10% 11/112 [03:46<08:08,  4.83s/it]\u001b[A\n",
            " 11% 12/112 [03:50<07:11,  4.32s/it]\u001b[A\n",
            " 12% 13/112 [03:53<06:40,  4.05s/it]\u001b[A\n",
            " 12% 14/112 [03:56<06:09,  3.77s/it]\u001b[A\n",
            " 13% 15/112 [03:59<05:46,  3.57s/it]\u001b[A\n",
            " 14% 16/112 [04:02<05:31,  3.45s/it]\u001b[A\n",
            " 15% 17/112 [04:06<05:24,  3.41s/it]\u001b[A\n",
            " 16% 18/112 [04:09<05:19,  3.40s/it]\u001b[A\n",
            " 17% 19/112 [04:12<05:09,  3.33s/it]\u001b[A\n",
            " 18% 20/112 [04:16<05:09,  3.37s/it]\u001b[A\n",
            " 19% 21/112 [04:19<05:01,  3.31s/it]\u001b[A\n",
            " 20% 22/112 [04:22<05:01,  3.36s/it]\u001b[A\n",
            " 21% 23/112 [04:25<04:52,  3.28s/it]\u001b[A\n",
            " 21% 24/112 [04:29<04:44,  3.23s/it]\u001b[A\n",
            " 22% 25/112 [04:32<04:39,  3.21s/it]\u001b[A\n",
            " 23% 26/112 [04:35<04:42,  3.28s/it]\u001b[A\n",
            " 24% 27/112 [04:38<04:34,  3.23s/it]\u001b[A\n",
            " 25% 28/112 [04:41<04:28,  3.20s/it]\u001b[A\n",
            " 26% 29/112 [04:45<04:24,  3.19s/it]\u001b[A\n",
            " 27% 30/112 [04:48<04:28,  3.27s/it]\u001b[A\n",
            " 28% 31/112 [04:51<04:20,  3.22s/it]\u001b[A\n",
            " 29% 32/112 [04:54<04:15,  3.20s/it]\u001b[A\n",
            " 29% 33/112 [04:57<04:12,  3.19s/it]\u001b[A\n",
            " 30% 34/112 [05:01<04:15,  3.28s/it]\u001b[A\n",
            " 31% 35/112 [05:04<04:08,  3.23s/it]\u001b[A\n",
            " 32% 36/112 [05:07<04:02,  3.19s/it]\u001b[A\n",
            " 33% 37/112 [05:10<03:57,  3.16s/it]\u001b[A\n",
            " 34% 38/112 [05:13<03:53,  3.16s/it]\u001b[A\n",
            " 35% 39/112 [05:17<03:56,  3.24s/it]\u001b[A\n",
            " 36% 40/112 [05:20<03:49,  3.19s/it]\u001b[A\n",
            " 37% 41/112 [05:23<03:45,  3.17s/it]\u001b[A\n",
            " 38% 42/112 [05:26<03:41,  3.16s/it]\u001b[A\n",
            " 38% 43/112 [05:30<03:43,  3.24s/it]\u001b[A\n",
            " 39% 44/112 [05:33<03:37,  3.20s/it]\u001b[A\n",
            " 40% 45/112 [05:36<03:32,  3.17s/it]\u001b[A\n",
            " 41% 46/112 [05:39<03:29,  3.18s/it]\u001b[A\n",
            " 42% 47/112 [05:42<03:30,  3.24s/it]\u001b[A\n",
            " 43% 48/112 [05:45<03:24,  3.20s/it]\u001b[A\n",
            " 44% 49/112 [05:49<03:19,  3.17s/it]\u001b[A\n",
            " 45% 50/112 [05:52<03:15,  3.15s/it]\u001b[A\n",
            " 46% 51/112 [05:55<03:16,  3.21s/it]\u001b[A\n",
            " 46% 52/112 [05:58<03:14,  3.25s/it]\u001b[A\n",
            " 47% 53/112 [06:02<03:09,  3.21s/it]\u001b[A\n",
            " 48% 54/112 [06:05<03:04,  3.18s/it]\u001b[A\n",
            " 49% 55/112 [06:08<03:01,  3.19s/it]\u001b[A\n",
            " 50% 56/112 [06:11<03:02,  3.25s/it]\u001b[A\n",
            " 51% 57/112 [06:14<02:56,  3.21s/it]\u001b[A\n",
            " 52% 58/112 [06:17<02:51,  3.18s/it]\u001b[A\n",
            " 53% 59/112 [06:21<02:48,  3.19s/it]\u001b[A\n",
            " 54% 60/112 [06:24<02:49,  3.25s/it]\u001b[A\n",
            " 54% 61/112 [06:27<02:43,  3.21s/it]\u001b[A\n",
            " 55% 62/112 [06:30<02:39,  3.18s/it]\u001b[A\n",
            " 56% 63/112 [06:33<02:35,  3.18s/it]\u001b[A\n",
            " 57% 64/112 [06:37<02:36,  3.26s/it]\u001b[A\n",
            " 58% 65/112 [06:40<02:31,  3.22s/it]\u001b[A\n",
            " 59% 66/112 [06:43<02:26,  3.19s/it]\u001b[A\n",
            " 60% 67/112 [06:46<02:23,  3.19s/it]\u001b[A\n",
            " 61% 68/112 [06:50<02:23,  3.25s/it]\u001b[A\n",
            " 62% 69/112 [06:53<02:20,  3.27s/it]\u001b[A\n",
            " 62% 70/112 [06:56<02:16,  3.25s/it]\u001b[A\n",
            " 63% 71/112 [07:00<02:16,  3.32s/it]\u001b[A\n",
            " 64% 72/112 [07:03<02:14,  3.36s/it]\u001b[A\n",
            " 65% 73/112 [07:07<02:11,  3.38s/it]\u001b[A\n",
            " 66% 74/112 [07:10<02:05,  3.30s/it]\u001b[A\n",
            " 67% 75/112 [07:13<02:00,  3.25s/it]\u001b[A\n",
            " 68% 76/112 [07:16<01:56,  3.23s/it]\u001b[A\n",
            " 69% 77/112 [07:20<01:56,  3.32s/it]\u001b[A\n",
            " 70% 78/112 [07:23<01:51,  3.27s/it]\u001b[A\n",
            " 71% 79/112 [07:26<01:46,  3.23s/it]\u001b[A\n",
            " 71% 80/112 [07:29<01:42,  3.21s/it]\u001b[A\n",
            " 72% 81/112 [07:33<01:42,  3.31s/it]\u001b[A\n",
            " 73% 82/112 [07:36<01:38,  3.29s/it]\u001b[A\n",
            " 74% 83/112 [07:39<01:33,  3.24s/it]\u001b[A\n",
            " 75% 84/112 [07:42<01:30,  3.23s/it]\u001b[A\n",
            " 76% 85/112 [07:46<01:29,  3.31s/it]\u001b[A\n",
            " 77% 86/112 [07:49<01:24,  3.27s/it]\u001b[A\n",
            " 78% 87/112 [07:52<01:21,  3.27s/it]\u001b[A\n",
            " 79% 88/112 [07:55<01:17,  3.24s/it]\u001b[A\n",
            " 79% 89/112 [07:59<01:16,  3.33s/it]\u001b[A\n",
            " 80% 90/112 [08:02<01:12,  3.29s/it]\u001b[A\n",
            " 81% 91/112 [08:05<01:08,  3.24s/it]\u001b[A\n",
            " 82% 92/112 [08:08<01:04,  3.23s/it]\u001b[A\n",
            " 83% 93/112 [08:12<01:01,  3.23s/it]\u001b[A\n",
            " 84% 94/112 [08:15<00:59,  3.29s/it]\u001b[A\n",
            " 85% 95/112 [08:18<00:55,  3.24s/it]\u001b[A\n",
            " 86% 96/112 [08:21<00:51,  3.20s/it]\u001b[A\n",
            " 87% 97/112 [08:24<00:47,  3.19s/it]\u001b[A\n",
            " 88% 98/112 [08:28<00:45,  3.27s/it]\u001b[A\n",
            " 88% 99/112 [08:31<00:42,  3.23s/it]\u001b[A\n",
            " 89% 100/112 [08:34<00:38,  3.19s/it]\u001b[A\n",
            " 90% 101/112 [08:37<00:35,  3.19s/it]\u001b[A\n",
            " 91% 102/112 [08:41<00:32,  3.30s/it]\u001b[A\n",
            " 92% 103/112 [08:44<00:29,  3.27s/it]\u001b[A\n",
            " 93% 104/112 [08:47<00:25,  3.23s/it]\u001b[A\n",
            " 94% 105/112 [08:50<00:22,  3.22s/it]\u001b[A\n",
            " 95% 106/112 [08:54<00:19,  3.29s/it]\u001b[A\n",
            " 96% 107/112 [08:57<00:16,  3.24s/it]\u001b[A\n",
            " 96% 108/112 [09:00<00:12,  3.21s/it]\u001b[A\n",
            " 97% 109/112 [09:03<00:09,  3.18s/it]\u001b[A\n",
            " 98% 110/112 [09:06<00:06,  3.18s/it]\u001b[A\n",
            " 99% 111/112 [09:10<00:03,  3.26s/it]\u001b[A\n",
            "100% 112/112 [12:02<00:00,  6.45s/it]\n",
            "Load checkpoint from: checkpoints/wav2lip_gan.pth\n",
            "Model loaded\n",
            "100% 7/7 [13:06<00:00, 112.35s/it]\n",
            "ffmpeg version 4.4.2-0ubuntu0.22.04.1 Copyright (c) 2000-2021 the FFmpeg developers\n",
            "  built with gcc 11 (Ubuntu 11.2.0-19ubuntu1)\n",
            "  configuration: --prefix=/usr --extra-version=0ubuntu0.22.04.1 --toolchain=hardened --libdir=/usr/lib/x86_64-linux-gnu --incdir=/usr/include/x86_64-linux-gnu --arch=amd64 --enable-gpl --disable-stripping --enable-gnutls --enable-ladspa --enable-libaom --enable-libass --enable-libbluray --enable-libbs2b --enable-libcaca --enable-libcdio --enable-libcodec2 --enable-libdav1d --enable-libflite --enable-libfontconfig --enable-libfreetype --enable-libfribidi --enable-libgme --enable-libgsm --enable-libjack --enable-libmp3lame --enable-libmysofa --enable-libopenjpeg --enable-libopenmpt --enable-libopus --enable-libpulse --enable-librabbitmq --enable-librubberband --enable-libshine --enable-libsnappy --enable-libsoxr --enable-libspeex --enable-libsrt --enable-libssh --enable-libtheora --enable-libtwolame --enable-libvidstab --enable-libvorbis --enable-libvpx --enable-libwebp --enable-libx265 --enable-libxml2 --enable-libxvid --enable-libzimg --enable-libzmq --enable-libzvbi --enable-lv2 --enable-omx --enable-openal --enable-opencl --enable-opengl --enable-sdl2 --enable-pocketsphinx --enable-librsvg --enable-libmfx --enable-libdc1394 --enable-libdrm --enable-libiec61883 --enable-chromaprint --enable-frei0r --enable-libx264 --enable-shared\n",
            "  libavutil      56. 70.100 / 56. 70.100\n",
            "  libavcodec     58.134.100 / 58.134.100\n",
            "  libavformat    58. 76.100 / 58. 76.100\n",
            "  libavdevice    58. 13.100 / 58. 13.100\n",
            "  libavfilter     7.110.100 /  7.110.100\n",
            "  libswscale      5.  9.100 /  5.  9.100\n",
            "  libswresample   3.  9.100 /  3.  9.100\n",
            "  libpostproc    55.  9.100 / 55.  9.100\n",
            "\u001b[0;33mGuessed Channel Layout for Input Stream #0.0 : stereo\n",
            "\u001b[0mInput #0, wav, from 'temp/temp.wav':\n",
            "  Metadata:\n",
            "    encoder         : Lavf58.76.100\n",
            "  Duration: 00:00:30.00, bitrate: 1411 kb/s\n",
            "  Stream #0:0: Audio: pcm_s16le ([1][0][0][0] / 0x0001), 44100 Hz, stereo, s16, 1411 kb/s\n",
            "Input #1, avi, from 'temp/result.avi':\n",
            "  Metadata:\n",
            "    software        : Lavf59.27.100\n",
            "  Duration: 00:00:29.86, start: 0.000000, bitrate: 5262 kb/s\n",
            "  Stream #1:0: Video: mpeg4 (Simple Profile) (DIVX / 0x58564944), yuv420p, 1080x1920 [SAR 1:1 DAR 9:16], 5259 kb/s, 29.97 fps, 29.97 tbr, 29.97 tbn, 2997 tbc\n",
            "Stream mapping:\n",
            "  Stream #1:0 -> #0:0 (mpeg4 (native) -> h264 (libx264))\n",
            "  Stream #0:0 -> #0:1 (pcm_s16le (native) -> aac (native))\n",
            "Press [q] to stop, [?] for help\n",
            "\u001b[1;36m[libx264 @ 0x56a7605ab580] \u001b[0m\u001b[0;33m-qscale is ignored, -crf is recommended.\n",
            "\u001b[0m\u001b[1;36m[libx264 @ 0x56a7605ab580] \u001b[0musing SAR=1/1\n",
            "\u001b[1;36m[libx264 @ 0x56a7605ab580] \u001b[0musing cpu capabilities: MMX2 SSE2Fast SSSE3 SSE4.2 AVX FMA3 BMI2 AVX2\n",
            "\u001b[1;36m[libx264 @ 0x56a7605ab580] \u001b[0mprofile High, level 4.0, 4:2:0, 8-bit\n",
            "\u001b[1;36m[libx264 @ 0x56a7605ab580] \u001b[0m264 - core 163 r3060 5db6aa6 - H.264/MPEG-4 AVC codec - Copyleft 2003-2021 - http://www.videolan.org/x264.html - options: cabac=1 ref=3 deblock=1:0:0 analyse=0x3:0x113 me=hex subme=7 psy=1 psy_rd=1.00:0.00 mixed_ref=1 me_range=16 chroma_me=1 trellis=1 8x8dct=1 cqm=0 deadzone=21,11 fast_pskip=1 chroma_qp_offset=-2 threads=3 lookahead_threads=1 sliced_threads=0 nr=0 decimate=1 interlaced=0 bluray_compat=0 constrained_intra=0 bframes=3 b_pyramid=2 b_adapt=1 b_bias=0 direct=1 weightb=1 open_gop=0 weightp=2 keyint=250 keyint_min=25 scenecut=40 intra_refresh=0 rc_lookahead=40 rc=crf mbtree=1 crf=23.0 qcomp=0.60 qpmin=0 qpmax=69 qpstep=4 ip_ratio=1.40 aq=1:1.00\n",
            "Output #0, mp4, to '/content/Wav2Lip/results/mix_vid-gan.mp4':\n",
            "  Metadata:\n",
            "    encoder         : Lavf58.76.100\n",
            "  Stream #0:0: Video: h264 (avc1 / 0x31637661), yuv420p(progressive), 1080x1920 [SAR 1:1 DAR 9:16], q=2-31, 29.97 fps, 30k tbn\n",
            "    Metadata:\n",
            "      encoder         : Lavc58.134.100 libx264\n",
            "    Side data:\n",
            "      cpb: bitrate max/min/avg: 0/0/0 buffer size: 0 vbv_delay: N/A\n",
            "  Stream #0:1: Audio: aac (LC) (mp4a / 0x6134706D), 44100 Hz, stereo, fltp, 128 kb/s\n",
            "    Metadata:\n",
            "      encoder         : Lavc58.134.100 aac\n",
            "frame=  895 fps= 11 q=-1.0 Lsize=   10014kB time=00:00:30.00 bitrate=2734.5kbits/s speed=0.362x    \n",
            "video:9512kB audio:471kB subtitle:0kB other streams:0kB global headers:0kB muxing overhead: 0.311830%\n",
            "\u001b[1;36m[libx264 @ 0x56a7605ab580] \u001b[0mframe I:4     Avg QP:16.67  size: 40798\n",
            "\u001b[1;36m[libx264 @ 0x56a7605ab580] \u001b[0mframe P:519   Avg QP:20.10  size: 14369\n",
            "\u001b[1;36m[libx264 @ 0x56a7605ab580] \u001b[0mframe B:372   Avg QP:22.42  size:  5697\n",
            "\u001b[1;36m[libx264 @ 0x56a7605ab580] \u001b[0mconsecutive B-frames: 34.0% 26.6% 15.8% 23.7%\n",
            "\u001b[1;36m[libx264 @ 0x56a7605ab580] \u001b[0mmb I  I16..4: 19.3% 77.6%  3.0%\n",
            "\u001b[1;36m[libx264 @ 0x56a7605ab580] \u001b[0mmb P  I16..4:  1.7% 10.2%  0.0%  P16..4: 26.9%  4.1%  2.0%  0.0%  0.0%    skip:55.2%\n",
            "\u001b[1;36m[libx264 @ 0x56a7605ab580] \u001b[0mmb B  I16..4:  0.4%  2.4%  0.0%  B16..8: 26.6%  1.3%  0.1%  direct: 0.6%  skip:68.4%  L0:57.8% L1:39.8% BI: 2.4%\n",
            "\u001b[1;36m[libx264 @ 0x56a7605ab580] \u001b[0m8x8 transform intra:85.3% inter:91.1%\n",
            "\u001b[1;36m[libx264 @ 0x56a7605ab580] \u001b[0mcoded y,uvDC,uvAC intra: 38.6% 22.8% 0.4% inter: 6.3% 3.9% 0.0%\n",
            "\u001b[1;36m[libx264 @ 0x56a7605ab580] \u001b[0mi16 v,h,dc,p: 34% 25% 28% 14%\n",
            "\u001b[1;36m[libx264 @ 0x56a7605ab580] \u001b[0mi8 v,h,dc,ddl,ddr,vr,hd,vl,hu: 24% 18% 52%  2%  1%  1%  1%  1%  1%\n",
            "\u001b[1;36m[libx264 @ 0x56a7605ab580] \u001b[0mi4 v,h,dc,ddl,ddr,vr,hd,vl,hu: 39% 21% 14%  4%  5%  6%  4%  4%  2%\n",
            "\u001b[1;36m[libx264 @ 0x56a7605ab580] \u001b[0mi8c dc,h,v,p: 70% 15% 14%  1%\n",
            "\u001b[1;36m[libx264 @ 0x56a7605ab580] \u001b[0mWeighted P-Frames: Y:0.0% UV:0.0%\n",
            "\u001b[1;36m[libx264 @ 0x56a7605ab580] \u001b[0mref P L0: 71.1%  8.5% 14.7%  5.7%\n",
            "\u001b[1;36m[libx264 @ 0x56a7605ab580] \u001b[0mref B L0: 83.7% 13.9%  2.4%\n",
            "\u001b[1;36m[libx264 @ 0x56a7605ab580] \u001b[0mref B L1: 97.7%  2.3%\n",
            "\u001b[1;36m[libx264 @ 0x56a7605ab580] \u001b[0mkb/s:2609.17\n",
            "\u001b[1;36m[aac @ 0x56a7605aba80] \u001b[0mQavg: 281.374\n"
          ]
        }
      ]
    },
    {
      "cell_type": "code",
      "source": [
        "!pip install librosa==0.8.0"
      ],
      "metadata": {
        "colab": {
          "base_uri": "https://localhost:8080/"
        },
        "id": "NOpRJr48W6Qy",
        "outputId": "07213edf-0cbc-426e-9651-82ab6f9100b6"
      },
      "execution_count": 11,
      "outputs": [
        {
          "output_type": "stream",
          "name": "stdout",
          "text": [
            "Collecting librosa==0.8.0\n",
            "  Using cached librosa-0.8.0.tar.gz (183 kB)\n",
            "  Preparing metadata (setup.py) ... \u001b[?25l\u001b[?25hdone\n",
            "Requirement already satisfied: audioread>=2.0.0 in /usr/local/lib/python3.10/dist-packages (from librosa==0.8.0) (3.0.0)\n",
            "Requirement already satisfied: numpy>=1.15.0 in /usr/local/lib/python3.10/dist-packages (from librosa==0.8.0) (1.22.4)\n",
            "Requirement already satisfied: scipy>=1.0.0 in /usr/local/lib/python3.10/dist-packages (from librosa==0.8.0) (1.10.1)\n",
            "Requirement already satisfied: scikit-learn!=0.19.0,>=0.14.0 in /usr/local/lib/python3.10/dist-packages (from librosa==0.8.0) (1.2.2)\n",
            "Requirement already satisfied: joblib>=0.14 in /usr/local/lib/python3.10/dist-packages (from librosa==0.8.0) (1.3.1)\n",
            "Requirement already satisfied: decorator>=3.0.0 in /usr/local/lib/python3.10/dist-packages (from librosa==0.8.0) (4.4.2)\n",
            "Collecting resampy>=0.2.2 (from librosa==0.8.0)\n",
            "  Downloading resampy-0.4.2-py3-none-any.whl (3.1 MB)\n",
            "\u001b[2K     \u001b[90m━━━━━━━━━━━━━━━━━━━━━━━━━━━━━━━━━━━━━━━━\u001b[0m \u001b[32m3.1/3.1 MB\u001b[0m \u001b[31m9.5 MB/s\u001b[0m eta \u001b[36m0:00:00\u001b[0m\n",
            "\u001b[?25hRequirement already satisfied: numba>=0.43.0 in /usr/local/lib/python3.10/dist-packages (from librosa==0.8.0) (0.56.4)\n",
            "Requirement already satisfied: soundfile>=0.9.0 in /usr/local/lib/python3.10/dist-packages (from librosa==0.8.0) (0.12.1)\n",
            "Requirement already satisfied: pooch>=1.0 in /usr/local/lib/python3.10/dist-packages (from librosa==0.8.0) (1.6.0)\n",
            "Requirement already satisfied: llvmlite<0.40,>=0.39.0dev0 in /usr/local/lib/python3.10/dist-packages (from numba>=0.43.0->librosa==0.8.0) (0.39.1)\n",
            "Requirement already satisfied: setuptools in /usr/local/lib/python3.10/dist-packages (from numba>=0.43.0->librosa==0.8.0) (67.7.2)\n",
            "Requirement already satisfied: appdirs>=1.3.0 in /usr/local/lib/python3.10/dist-packages (from pooch>=1.0->librosa==0.8.0) (1.4.4)\n",
            "Requirement already satisfied: packaging>=20.0 in /usr/local/lib/python3.10/dist-packages (from pooch>=1.0->librosa==0.8.0) (23.1)\n",
            "Requirement already satisfied: requests>=2.19.0 in /usr/local/lib/python3.10/dist-packages (from pooch>=1.0->librosa==0.8.0) (2.27.1)\n",
            "Requirement already satisfied: threadpoolctl>=2.0.0 in /usr/local/lib/python3.10/dist-packages (from scikit-learn!=0.19.0,>=0.14.0->librosa==0.8.0) (3.1.0)\n",
            "Requirement already satisfied: cffi>=1.0 in /usr/local/lib/python3.10/dist-packages (from soundfile>=0.9.0->librosa==0.8.0) (1.15.1)\n",
            "Requirement already satisfied: pycparser in /usr/local/lib/python3.10/dist-packages (from cffi>=1.0->soundfile>=0.9.0->librosa==0.8.0) (2.21)\n",
            "Requirement already satisfied: urllib3<1.27,>=1.21.1 in /usr/local/lib/python3.10/dist-packages (from requests>=2.19.0->pooch>=1.0->librosa==0.8.0) (1.26.16)\n",
            "Requirement already satisfied: certifi>=2017.4.17 in /usr/local/lib/python3.10/dist-packages (from requests>=2.19.0->pooch>=1.0->librosa==0.8.0) (2023.5.7)\n",
            "Requirement already satisfied: charset-normalizer~=2.0.0 in /usr/local/lib/python3.10/dist-packages (from requests>=2.19.0->pooch>=1.0->librosa==0.8.0) (2.0.12)\n",
            "Requirement already satisfied: idna<4,>=2.5 in /usr/local/lib/python3.10/dist-packages (from requests>=2.19.0->pooch>=1.0->librosa==0.8.0) (3.4)\n",
            "Building wheels for collected packages: librosa\n",
            "  Building wheel for librosa (setup.py) ... \u001b[?25l\u001b[?25hdone\n",
            "  Created wheel for librosa: filename=librosa-0.8.0-py3-none-any.whl size=201378 sha256=15cb8db6d04b086bc8bb987aa7ee245f1a222aa6cfe2c4621206ad9ced75d4a3\n",
            "  Stored in directory: /root/.cache/pip/wheels/bf/b7/85/2f8044306ccec014930aea23ad4852fca9e2584e21c6972bc6\n",
            "Successfully built librosa\n",
            "Installing collected packages: resampy, librosa\n",
            "  Attempting uninstall: librosa\n",
            "    Found existing installation: librosa 0.10.0.post2\n",
            "    Uninstalling librosa-0.10.0.post2:\n",
            "      Successfully uninstalled librosa-0.10.0.post2\n",
            "Successfully installed librosa-0.8.0 resampy-0.4.2\n"
          ]
        }
      ]
    }
  ]
}